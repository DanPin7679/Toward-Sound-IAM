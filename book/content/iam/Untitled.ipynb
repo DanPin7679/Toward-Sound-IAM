{
 "cells": [
  {
   "cell_type": "code",
   "execution_count": 122,
   "id": "e1fe1c5c",
   "metadata": {},
   "outputs": [],
   "source": [
    "import numpy as np\n",
    "import scipy.optimize as opt\n",
    "from matplotlib import pyplot as plt"
   ]
  },
  {
   "cell_type": "code",
   "execution_count": 147,
   "id": "3b6419b0",
   "metadata": {},
   "outputs": [],
   "source": [
    "class System:\n",
    "    def __init__(self, t, obj_fn, bnds, modules):\n",
    "        self.t = t\n",
    "        self.obj_fn = obj_fn\n",
    "        self.bnds = bnds\n",
    "        self.modules = modules\n",
    "        self.cons = []\n",
    "        self.res = None\n",
    "      \n",
    "    def make_cons(self):\n",
    "        for m in self.modules:\n",
    "            for c in m:\n",
    "                new = {'type': 'ineq', 'fun': c}\n",
    "                self.cons.append(new)\n",
    "        \n",
    "    def run(self):\n",
    "        self.make_cons()\n",
    "        res = opt.minimize(self.obj_fn, (2, 0), method='SLSQP', bounds=self.bnds, constraints=self.cons)\n",
    "        self.res = res   "
   ]
  },
  {
   "cell_type": "code",
   "execution_count": 148,
   "id": "dc82e493",
   "metadata": {},
   "outputs": [],
   "source": [
    "objfun = lambda x: (x[0] - 1)**2 + (x[1] - 2.5)**2\n",
    "bnds = ((0, None), (0, None))"
   ]
  },
  {
   "cell_type": "markdown",
   "id": "d272fec5",
   "metadata": {},
   "source": [
    "## Economy"
   ]
  },
  {
   "cell_type": "code",
   "execution_count": 149,
   "id": "b47129e3",
   "metadata": {},
   "outputs": [],
   "source": [
    "econ = [\n",
    "    lambda x: -x[0] - 2 * x[1] + 6,\n",
    "    lambda x: -x[0] + 2 * x[1] + 2\n",
    "]"
   ]
  },
  {
   "cell_type": "markdown",
   "id": "a34de6ba",
   "metadata": {},
   "source": [
    "## Climate"
   ]
  },
  {
   "cell_type": "code",
   "execution_count": 150,
   "id": "1f2b63d7",
   "metadata": {},
   "outputs": [],
   "source": [
    "climate = [\n",
    "    lambda x:  x[0] - 2 * x[1] + 2\n",
    "]"
   ]
  },
  {
   "cell_type": "code",
   "execution_count": 152,
   "id": "8116697a",
   "metadata": {},
   "outputs": [
    {
     "name": "stdout",
     "output_type": "stream",
     "text": [
      "[1.4 1.7]\n"
     ]
    }
   ],
   "source": [
    "modules = [econ, climate]\n",
    "syst = System(np.arange(1, 101), objfun, bnds, modules)\n",
    "syst.run()\n",
    "print(syst.res.x)"
   ]
  },
  {
   "cell_type": "code",
   "execution_count": null,
   "id": "8c23bc9e",
   "metadata": {},
   "outputs": [],
   "source": []
  }
 ],
 "metadata": {
  "kernelspec": {
   "display_name": "Python 3 (ipykernel)",
   "language": "python",
   "name": "python3"
  },
  "language_info": {
   "codemirror_mode": {
    "name": "ipython",
    "version": 3
   },
   "file_extension": ".py",
   "mimetype": "text/x-python",
   "name": "python",
   "nbconvert_exporter": "python",
   "pygments_lexer": "ipython3",
   "version": "3.11.5"
  }
 },
 "nbformat": 4,
 "nbformat_minor": 5
}
