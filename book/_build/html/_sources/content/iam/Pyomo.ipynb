{
 "cells": [
  {
   "cell_type": "code",
   "execution_count": 1,
   "id": "634d2d06-96e4-4dc1-88fd-cf9dd6d8601f",
   "metadata": {},
   "outputs": [],
   "source": [
    "import pyomo.environ as pyo\n",
    "import mydata"
   ]
  },
  {
   "cell_type": "code",
   "execution_count": 2,
   "id": "4920e5e8-462d-4954-8a4c-f14bb0d4233f",
   "metadata": {},
   "outputs": [],
   "source": [
    "model = pyo.ConcreteModel()\n",
    "model.x = pyo.Var(mydata.N, within=pyo.NonNegativeReals)\n",
    "def obj_rule(model):\n",
    " return sum(mydata.c[i]*model.x[i] for i in mydata.N)\n",
    "model.obj = pyo.Objective(rule=obj_rule)\n",
    "def con_rule(model, m):\n",
    " return sum(mydata.a[m,i]*model.x[i] for i in mydata.N) \\\n",
    "               >= mydata.b[m]\n",
    "model.con = pyo.Constraint(mydata.M, rule=con_rule)"
   ]
  },
  {
   "cell_type": "code",
   "execution_count": 3,
   "id": "dc53e71f-f324-4ab7-a136-c4d252f84bf9",
   "metadata": {},
   "outputs": [
    {
     "name": "stdout",
     "output_type": "stream",
     "text": [
      "Model unknown\n",
      "\n",
      "  Variables:\n",
      "    x : Size=2, Index=x_index\n",
      "        Key : Lower : Value : Upper : Fixed : Stale : Domain\n",
      "          1 :     0 :   0.0 :  None : False : False : NonNegativeReals\n",
      "          2 :     0 :   0.4 :  None : False : False : NonNegativeReals\n",
      "\n",
      "  Objectives:\n",
      "    obj : Size=1, Index=None, Active=True\n",
      "        Key  : Active : Value\n",
      "        None :   True :   0.8\n",
      "\n",
      "  Constraints:\n",
      "    con : Size=2\n",
      "        Key : Lower : Body : Upper\n",
      "          1 :   1.0 :  1.6 :  None\n",
      "          2 :   2.0 :  2.0 :  None\n"
     ]
    }
   ],
   "source": [
    "opt = pyo.SolverFactory('glpk')\n",
    "results = opt.solve(model) # solves and updates model pyo.assert_optimal_termination(results)\n",
    "model.display()"
   ]
  },
  {
   "cell_type": "code",
   "execution_count": null,
   "id": "97f51464-c9e2-41f3-ad91-37ba112de7db",
   "metadata": {},
   "outputs": [],
   "source": []
  }
 ],
 "metadata": {
  "kernelspec": {
   "display_name": "Python 3 (ipykernel)",
   "language": "python",
   "name": "python3"
  },
  "language_info": {
   "codemirror_mode": {
    "name": "ipython",
    "version": 3
   },
   "file_extension": ".py",
   "mimetype": "text/x-python",
   "name": "python",
   "nbconvert_exporter": "python",
   "pygments_lexer": "ipython3",
   "version": "3.11.8"
  }
 },
 "nbformat": 4,
 "nbformat_minor": 5
}
