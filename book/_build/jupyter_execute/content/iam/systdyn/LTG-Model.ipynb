{
 "cells": [
  {
   "cell_type": "code",
   "execution_count": 1,
   "id": "2ca71155",
   "metadata": {},
   "outputs": [
    {
     "ename": "ModuleNotFoundError",
     "evalue": "No module named 'pyworld3'",
     "output_type": "error",
     "traceback": [
      "\u001b[0;31m---------------------------------------------------------------------------\u001b[0m",
      "\u001b[0;31mModuleNotFoundError\u001b[0m                       Traceback (most recent call last)",
      "Cell \u001b[0;32mIn[1], line 1\u001b[0m\n\u001b[0;32m----> 1\u001b[0m \u001b[38;5;28;01mimport\u001b[39;00m \u001b[38;5;21;01mpyworld3\u001b[39;00m\n\u001b[1;32m      2\u001b[0m \u001b[38;5;28;01mfrom\u001b[39;00m \u001b[38;5;21;01mpyworld3\u001b[39;00m \u001b[38;5;28;01mimport\u001b[39;00m World3\n\u001b[1;32m      3\u001b[0m pyworld3\u001b[38;5;241m.\u001b[39mhello_world3()\n",
      "\u001b[0;31mModuleNotFoundError\u001b[0m: No module named 'pyworld3'"
     ]
    }
   ],
   "source": [
    "import pyworld3\n",
    "from pyworld3 import World3\n",
    "pyworld3.hello_world3()"
   ]
  },
  {
   "cell_type": "code",
   "execution_count": 6,
   "id": "2a283dcb",
   "metadata": {},
   "outputs": [],
   "source": [
    "maxyear = 2100"
   ]
  },
  {
   "cell_type": "markdown",
   "id": "8bd8e117-25c6-4dc6-bbe5-6c7da14352df",
   "metadata": {},
   "source": [
    "## Original (Business-As-Usual - BAU)"
   ]
  },
  {
   "cell_type": "code",
   "execution_count": 11,
   "id": "4efc376a-ac16-4d05-9d1d-e49036012aa9",
   "metadata": {},
   "outputs": [],
   "source": [
    "world3 = World3(year_max=maxyear)  # default value for nri_factor is 1\n",
    "# run_and_plot(world3)\n",
    "# plt.savefig(\"world3_timeseries_case_1.png\",transparent=True,bbox_inches=\"tight\",dpi=300)"
   ]
  },
  {
   "cell_type": "code",
   "execution_count": null,
   "id": "0740a8ac-b4cc-48cf-bc15-8562ebff02d1",
   "metadata": {},
   "outputs": [],
   "source": []
  }
 ],
 "metadata": {
  "kernelspec": {
   "display_name": "Python 3 (ipykernel)",
   "language": "python",
   "name": "python3"
  },
  "language_info": {
   "codemirror_mode": {
    "name": "ipython",
    "version": 3
   },
   "file_extension": ".py",
   "mimetype": "text/x-python",
   "name": "python",
   "nbconvert_exporter": "python",
   "pygments_lexer": "ipython3",
   "version": "3.11.5"
  }
 },
 "nbformat": 4,
 "nbformat_minor": 5
}