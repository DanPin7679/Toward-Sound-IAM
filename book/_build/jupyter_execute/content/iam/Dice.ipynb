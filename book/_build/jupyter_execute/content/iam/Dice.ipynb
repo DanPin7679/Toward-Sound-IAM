{
 "cells": [
  {
   "cell_type": "markdown",
   "id": "03d2422f",
   "metadata": {},
   "source": [
    "# DICE-2016R Model"
   ]
  },
  {
   "cell_type": "markdown",
   "id": "344a7a45",
   "metadata": {},
   "source": [
    "The DICE model views climate change in the framework of economic growth theory. In a standard neoclassical optimal growth model known as the Ramsey model, society invests in capital goods, thereby reducing consumption today, to increase consumption in the future. The DICE model modifies the Ramsey model to include climate investments, which are analogous to capital investments in the standard model. The model contains all elements from economics through climate change to damages in a form that attempts to represent simplified best practice in each area."
   ]
  },
  {
   "cell_type": "markdown",
   "id": "d9993851",
   "metadata": {},
   "source": [
    "## Objective Function"
   ]
  },
  {
   "cell_type": "markdown",
   "id": "937fe145",
   "metadata": {},
   "source": [
    "The model optimizes a social welfare function, $W$, which is the discounted sum of the population-weighted utility of per capita consumption. The notation here is that $V$ is the instantaneous social welfare function, $U$ is the utility function, $c(t)$ is per capita consumption, and $L(t)$ is population. The discount factor on welfare is $R(t) = (1+ρ)−t$, where $ρ$ is the pure rate of social time preference or generational discount rate on welfare.\n",
    "\n",
    "$W=\\sum_{Tmax}^{t=1} V[c(t), L(t)]R(t) = \\sum_{Tmax}^{t=1} U[c(t)]L(t)R(t)$.\n",
    "\n",
    "The utility function has a constant elasticity with respect to per capita consumption of the form $U(c) = \\frac{c^{1-\\alpha}}{1 − \\alpha}$. The parameter α is interpreted as generational inequality aversion."
   ]
  },
  {
   "cell_type": "markdown",
   "id": "a3eea0b1",
   "metadata": {},
   "source": [
    "## Economic Module"
   ]
  },
  {
   "cell_type": "markdown",
   "id": "883321f8",
   "metadata": {},
   "source": [
    "Net output is gross output reduced by damages and mitigation costs, \n",
    "\n",
    "$Q(t) = \\Omega(t)[1 - \\Lambda(t)]Y(t)$\n",
    "\n",
    "In this specification, Q(t) is output net of damages and abatement, and $Y(t)$ is gross output, which is a Cobb−Douglas function of capital, labor, and technology. Total output is divided between total consumption and total gross investment. Labor is proportional to population, whereas capital accumulates according to an optimized savings rate."
   ]
  },
  {
   "cell_type": "markdown",
   "id": "8aaccfdc",
   "metadata": {},
   "source": [
    "The additional variables in the production function are $\\Omega (t)$ and $\\Lambda (t)$, which represent the damage function and the abatement cost function, respectively"
   ]
  },
  {
   "cell_type": "markdown",
   "id": "d8be7792",
   "metadata": {},
   "source": [
    "## Damage Module"
   ]
  },
  {
   "cell_type": "markdown",
   "id": "4af0e0a2",
   "metadata": {},
   "source": [
    "The damage function is defined as \n",
    "\n",
    "$D(T) = \\psi_1 T_{AT}(t)+\\psi_2[T_{AT}(t)]^2$, where \n",
    "\n",
    "This equation describes the economic impacts or damages of climate change, which is a key component in calculating the SCC."
   ]
  },
  {
   "cell_type": "markdown",
   "id": "112564b1",
   "metadata": {},
   "source": [
    "## Emissions Module"
   ]
  },
  {
   "cell_type": "markdown",
   "id": "d6447c35",
   "metadata": {},
   "source": [
    "Uncontrolled industrial CO2 emissions are given by a level of carbon intensity, $\\sigma(t)$, times gross output. Total CO2 emissions, $E(t)$, are equal to uncontrolled emissions reduced by the emissions reduction rate, $\\mu(t)$, plus exogenous land-use emissions. \n",
    "\n",
    "$E(t) = \\sigma(t)[1-\\mu(t)]Y(t)+E_{Land}(t)$"
   ]
  },
  {
   "cell_type": "markdown",
   "id": "c67727a4",
   "metadata": {},
   "source": [
    "## Climate Module"
   ]
  },
  {
   "cell_type": "markdown",
   "id": "fe55b230",
   "metadata": {},
   "source": [
    "The geophysical equations link greenhouse gas emissions to the carbon cycle, radiative forcings, and climate change. Eq. 5 represents the equations of the carbon cycle for three reservoirs. \n",
    "\n",
    "$M_j(t) = \\phi_{0,j}E(t) + \\sum_{i=1}^{3}{\\phi_{i,j} M_i (t-1})$\n",
    "\n",
    "The three reservoirs are $j = AT, UP, and LO$, which are the atmosphere, the upper oceans and biosphere, and the lower oceans, respectively. The parameters φ i j represent the flow parameters between reservoirs per period. All emissions flow into the atmosphere."
   ]
  },
  {
   "cell_type": "markdown",
   "id": "7c54f91b",
   "metadata": {},
   "source": [
    "The relationship between GHG accumulations and increased radiative forcing is\n",
    "\n",
    "$F(t) = \\eta (log_2 \\frac{M_{AT}(t)}{M_{AT}(1750)}) + F_{EX}(t)$\n",
    "\n",
    "$F(t)$ is the change in total radiative forcings from anthropogenic sources such as CO2. FEX(t) is exogenous forcings, and the first term is the forcings due to atmospheric concentrations of CO2. Forcings lead to warming according to a simplified two-level global climate model,\n",
    "\n",
    "$T_{AT}(t) = T_{AT}(t-1)+\\epsilon_1 (F(t) - \\epsilon_2 T_{AT}(t-1) - \\epsilon_3 [T_{AT}(t-1)-T_{LO}(t-1)])$\n",
    "\n",
    "$T_{LO}(t) = T_{LO}(t-1)+\\epsilon_4 [T_{AT}(t-1) - T_{LO}(t-1)]$\n",
    "\n",
    "In these equations, $T_{AT}(t)$ is the global mean surface temperature and $T_{LO}(t)$ is the mean temperature of the deep oceans."
   ]
  },
  {
   "cell_type": "code",
   "execution_count": null,
   "id": "b993f630",
   "metadata": {},
   "outputs": [],
   "source": []
  }
 ],
 "metadata": {
  "kernelspec": {
   "display_name": "Python 3 (ipykernel)",
   "language": "python",
   "name": "python3"
  },
  "language_info": {
   "codemirror_mode": {
    "name": "ipython",
    "version": 3
   },
   "file_extension": ".py",
   "mimetype": "text/x-python",
   "name": "python",
   "nbconvert_exporter": "python",
   "pygments_lexer": "ipython3",
   "version": "3.11.5"
  }
 },
 "nbformat": 4,
 "nbformat_minor": 5
}