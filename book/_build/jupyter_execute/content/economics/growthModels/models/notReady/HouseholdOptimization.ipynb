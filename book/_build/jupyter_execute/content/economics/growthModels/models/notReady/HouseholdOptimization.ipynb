{
 "cells": [
  {
   "cell_type": "code",
   "execution_count": 1,
   "id": "97563af7-9bcb-4d13-adfa-de986d246114",
   "metadata": {},
   "outputs": [
    {
     "ename": "ModuleNotFoundError",
     "evalue": "No module named 'pyomo'",
     "output_type": "error",
     "traceback": [
      "\u001b[0;31m---------------------------------------------------------------------------\u001b[0m",
      "\u001b[0;31mModuleNotFoundError\u001b[0m                       Traceback (most recent call last)",
      "Cell \u001b[0;32mIn[1], line 4\u001b[0m\n\u001b[1;32m      2\u001b[0m \u001b[38;5;28;01mimport\u001b[39;00m \u001b[38;5;21;01mnumpy\u001b[39;00m \u001b[38;5;28;01mas\u001b[39;00m \u001b[38;5;21;01mnp\u001b[39;00m\n\u001b[1;32m      3\u001b[0m \u001b[38;5;28;01mimport\u001b[39;00m \u001b[38;5;21;01mpandas\u001b[39;00m \u001b[38;5;28;01mas\u001b[39;00m \u001b[38;5;21;01mpd\u001b[39;00m\n\u001b[0;32m----> 4\u001b[0m \u001b[38;5;28;01mimport\u001b[39;00m \u001b[38;5;21;01mpyomo\u001b[39;00m\u001b[38;5;21;01m.\u001b[39;00m\u001b[38;5;21;01menviron\u001b[39;00m \u001b[38;5;28;01mas\u001b[39;00m \u001b[38;5;21;01mpyo\u001b[39;00m\n\u001b[1;32m      5\u001b[0m SOLVER \u001b[38;5;241m=\u001b[39m pyo\u001b[38;5;241m.\u001b[39mSolverFactory(\u001b[38;5;124m\"\u001b[39m\u001b[38;5;124mipopt\u001b[39m\u001b[38;5;124m\"\u001b[39m)\n",
      "\u001b[0;31mModuleNotFoundError\u001b[0m: No module named 'pyomo'"
     ]
    }
   ],
   "source": [
    "import matplotlib.pyplot as plt\n",
    "import numpy as np\n",
    "import pandas as pd\n",
    "import pyomo.environ as pyo\n",
    "SOLVER = pyo.SolverFactory(\"ipopt\")"
   ]
  },
  {
   "cell_type": "markdown",
   "id": "1f41360d-29fb-47db-9507-9ce987e11d97",
   "metadata": {},
   "source": [
    "# Household optimization problem\n",
    "\n",
    "## Problem\n",
    "\n",
    "For concreteness, suppose that all households are infinitely-lived and identical; that is, each household has the same discount factor $\\beta$, the same sequence of effective labor endowments $e(t)^{\\infty}_{t=0}$, and the same instantaneous utility function\n",
    "$u(c^h(t))$,\n",
    "where $u : R+→ R$ is increasing and concave, and $c^h(t)$ is the consumption of household $h$. Therefore there really is a representative household in this case. Consequently, again ignoring uncertainty, the demand side of the economy can be represented as the solution to the following maximization problem starting at time $t = 0$:\n",
    "\n",
    "$max \\sum ^{\\infty}_{t=0} \\beta^t u(c(t))$\n",
    "\n",
    "where $\\beta \\in (0, 1)$ is the common discount factor of all the households, and $c(t)$ is the consumption level of the representative household."
   ]
  },
  {
   "cell_type": "code",
   "execution_count": 41,
   "id": "6c440d11-0e61-434f-8ebe-c6d02fd38cf5",
   "metadata": {},
   "outputs": [],
   "source": [
    "def household(tfinal, earnings, asset_init, act_period, ret_period):\n",
    "    m = pyo.ConcreteModel(\"Household optimization\")\n",
    "    \n",
    "    m.savRate = pyo.Var(domain=pyo.NonNegativeReals)\n",
    "\n",
    "    m.actRev = m.savRate * earnings\n",
    "    m.retAsset = asset_init + act_period * (earnings - m.actRev)\n",
    "    m.retRev = m.retAsset / ret_period\n",
    "    \n",
    "\n",
    "    @m.Objective(sense=pyo.minimize)\n",
    "    def objective(m):\n",
    "        return abs(m.retRev - m.actRev)\n",
    "\n",
    "    @m.Constraint()\n",
    "    def minActPer(m):\n",
    "        return m.savRate <= 1.0\n",
    "\n",
    "    return m"
   ]
  },
  {
   "cell_type": "code",
   "execution_count": 42,
   "id": "90d1eb97-ec72-4c66-b37a-dedbda47440e",
   "metadata": {},
   "outputs": [
    {
     "name": "stdout",
     "output_type": "stream",
     "text": [
      "WARNING: Loading a SolverResults object with a warning status into\n",
      "model.name=\"Household optimization\";\n",
      "    - termination condition: maxIterations\n",
      "    - message from solver: Ipopt 3.14.14\\x3a Maximum Number of Iterations\n",
      "      Exceeded.\n"
     ]
    },
    {
     "data": {
      "text/plain": [
       "{'Problem': [{'Lower bound': -inf, 'Upper bound': inf, 'Number of objectives': 1, 'Number of constraints': 1, 'Number of variables': 1, 'Sense': 'unknown'}], 'Solver': [{'Status': 'warning', 'Message': 'Ipopt 3.14.14\\\\x3a Maximum Number of Iterations Exceeded.', 'Termination condition': 'maxIterations', 'Id': 400, 'Error rc': 0, 'Time': 0.9433987140655518}], 'Solution': [OrderedDict([('number of solutions', 0), ('number of solutions displayed', 0)])]}"
      ]
     },
     "execution_count": 42,
     "metadata": {},
     "output_type": "execute_result"
    }
   ],
   "source": [
    "# Specify the initial capital, the risk threshold, and the guaranteed return rate.\n",
    "tfinal = 10\n",
    "earnings = 50000\n",
    "asset_init = 100000\n",
    "act_period = 20\n",
    "ret_period = 25\n",
    "\n",
    "m = household(tfinal, earnings, asset_init, act_period, ret_period)\n",
    "SOLVER.solve(m)"
   ]
  },
  {
   "cell_type": "code",
   "execution_count": 43,
   "id": "57d8b9ca-4952-480f-906f-0112cecb0e2d",
   "metadata": {},
   "outputs": [
    {
     "name": "stdout",
     "output_type": "stream",
     "text": [
      "\n",
      "The corresponding optimal stock levels in each months are:\n",
      "savRate : Size=1, Index=None\n",
      "    Key  : Lower : Value                : Upper : Fixed : Stale : Domain\n",
      "    None :     0 : 0.009743240110130634 :  None : False : False : NonNegativeReals\n"
     ]
    }
   ],
   "source": [
    "def show_table_of_pyomo_variables(X, I, J):\n",
    "    return pd.DataFrame.from_records(\n",
    "        [[pyo.value(X[i, j]) for j in J] for i in I], index=I, columns=J\n",
    "    ).round(2)\n",
    "\n",
    "print(\"\\nThe corresponding optimal stock levels in each months are:\")\n",
    "display(m.savRate)"
   ]
  },
  {
   "cell_type": "code",
   "execution_count": 54,
   "id": "cac8b328-1140-42b0-8f86-c3778ea695dc",
   "metadata": {},
   "outputs": [
    {
     "name": "stdout",
     "output_type": "stream",
     "text": [
      "43123.10839008825\n"
     ]
    }
   ],
   "source": [
    "print(m.objective())"
   ]
  },
  {
   "cell_type": "code",
   "execution_count": null,
   "id": "7f05e71d-5757-495c-942c-36343cb63def",
   "metadata": {},
   "outputs": [],
   "source": []
  }
 ],
 "metadata": {
  "kernelspec": {
   "display_name": "Python 3 (ipykernel)",
   "language": "python",
   "name": "python3"
  },
  "language_info": {
   "codemirror_mode": {
    "name": "ipython",
    "version": 3
   },
   "file_extension": ".py",
   "mimetype": "text/x-python",
   "name": "python",
   "nbconvert_exporter": "python",
   "pygments_lexer": "ipython3",
   "version": "3.11.5"
  }
 },
 "nbformat": 4,
 "nbformat_minor": 5
}